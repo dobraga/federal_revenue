{
 "cells": [
  {
   "cell_type": "code",
   "execution_count": 2,
   "metadata": {},
   "outputs": [],
   "source": [
    "import pandas  as pd\n",
    "import os"
   ]
  },
  {
   "cell_type": "code",
   "execution_count": 3,
   "metadata": {},
   "outputs": [],
   "source": [
    "filename = \"data/K3241.K03200Y3.D20813.ESTABELE_processed\""
   ]
  },
  {
   "cell_type": "code",
   "execution_count": 6,
   "metadata": {},
   "outputs": [],
   "source": [
    "try:\n",
    "    with pd.read_csv(filename, sep=\";\", header=None, dtype=str, chunksize=10 ** 6) as reader:\n",
    "        for chunk in reader:\n",
    "            chunk.sample(5)\n",
    "except UnicodeError as e:\n",
    "    offending = e.object[e.start:e.end]\n",
    "    print(\"This file isn't encoded with\", e.encoding)\n",
    "    print(\"Illegal bytes:\", repr(offending))\n",
    "    raise\n",
    "\n",
    "except Exception as e:\n",
    "    raise"
   ]
  },
  {
   "cell_type": "code",
   "execution_count": null,
   "metadata": {},
   "outputs": [],
   "source": []
  },
  {
   "cell_type": "code",
   "execution_count": 7,
   "metadata": {},
   "outputs": [
    {
     "name": "stdout",
     "output_type": "stream",
     "text": [
      "4753435 data/K3241.K03200Y3.D20813.ESTABELE_processed\n"
     ]
    }
   ],
   "source": [
    "!wc '{filename}' -l"
   ]
  },
  {
   "cell_type": "code",
   "execution_count": 12,
   "metadata": {},
   "outputs": [],
   "source": [
    "total = 4_753_435\n",
    "ini = 1\n",
    "step = 9999\n",
    "while ini < total:\n",
    "    end = ini + step - 1\n",
    "    if end > total:\n",
    "        end = total\n",
    "    file = f'data/teste_{ini}_{end}'\n",
    "    os.system(f\"sed -n '{ini},{end}p' '{filename}' > '{file}'\")\n",
    "    \n",
    "    try:\n",
    "        pd.read_csv(file, sep=\";\", header=None, dtype=str)\n",
    "        os.system(f'rm {file}')\n",
    "    except Exception as e:\n",
    "        os.system(f\"sed -n '{ini},{end}p' '{filename}' > '{file}'\")\n",
    "        print(f'error between {ini}:{end}: {e}')\n",
    "        break\n",
    "\n",
    "    ini += step"
   ]
  },
  {
   "cell_type": "code",
   "execution_count": null,
   "metadata": {},
   "outputs": [],
   "source": []
  },
  {
   "cell_type": "code",
   "execution_count": 4,
   "metadata": {},
   "outputs": [],
   "source": [
    "df = pd.read_csv(\"data/teste_{1300001}_{1400000}\", sep=\";\", decimal=\",\", header=None, dtype=str)"
   ]
  },
  {
   "cell_type": "code",
   "execution_count": 14,
   "metadata": {},
   "outputs": [
    {
     "data": {
      "text/plain": [
       "['             ']"
      ]
     },
     "execution_count": 14,
     "metadata": {},
     "output_type": "execute_result"
    }
   ],
   "source": [
    "df[df.iloc[:, 0] == \"95261103\"].iloc[:, 16].values.tolist()"
   ]
  },
  {
   "cell_type": "code",
   "execution_count": null,
   "metadata": {},
   "outputs": [],
   "source": []
  },
  {
   "cell_type": "code",
   "execution_count": null,
   "metadata": {},
   "outputs": [],
   "source": []
  }
 ],
 "metadata": {
  "kernelspec": {
   "display_name": "Python 3.9.13 64-bit ('3.9.13')",
   "language": "python",
   "name": "python3"
  },
  "language_info": {
   "codemirror_mode": {
    "name": "ipython",
    "version": 3
   },
   "file_extension": ".py",
   "mimetype": "text/x-python",
   "name": "python",
   "nbconvert_exporter": "python",
   "pygments_lexer": "ipython3",
   "version": "3.9.13"
  },
  "orig_nbformat": 4,
  "vscode": {
   "interpreter": {
    "hash": "626fcd73b8461818a566c37137a16cf8a60171a69b9f34a68ff16b984b3b30f8"
   }
  }
 },
 "nbformat": 4,
 "nbformat_minor": 2
}
